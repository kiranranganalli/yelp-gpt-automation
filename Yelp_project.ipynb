{
 "cells": [
  {
   "cell_type": "code",
   "execution_count": 2,
   "id": "9ffc2c0b-2f1c-4cba-958e-0c86c5e822dc",
   "metadata": {},
   "outputs": [
    {
     "name": "stdout",
     "output_type": "stream",
     "text": [
      "Note: you may need to restart the kernel to use updated packages.\n"
     ]
    }
   ],
   "source": [
    "pip install openai boto3 pandas --quiet"
   ]
  },
  {
   "cell_type": "code",
   "execution_count": null,
   "id": "51c6ebb6-3faa-4a44-a858-6af3f0005596",
   "metadata": {},
   "outputs": [
    {
     "name": "stdout",
     "output_type": "stream",
     "text": [
      "\n",
      "📥 Processing file: american (traditional).csv\n",
      "✅ Loaded 100 reviews\n",
      "✅ Saved GPT responses to: category_files/gpt_american (traditional).csv\n",
      "\n",
      "📥 Processing file: bars.csv\n",
      "✅ Loaded 100 reviews\n",
      "✅ Saved GPT responses to: category_files/gpt_bars.csv\n",
      "\n",
      "📥 Processing file: coffee & tea.csv\n",
      "✅ Loaded 100 reviews\n",
      "✅ Saved GPT responses to: category_files/gpt_coffee & tea.csv\n",
      "\n",
      "📥 Processing file: Food.csv\n",
      "✅ Loaded 100 reviews\n",
      "✅ Saved GPT responses to: category_files/gpt_Food.csv\n",
      "\n",
      "📥 Processing file: gyms.csv\n",
      "✅ Loaded 100 reviews\n",
      "✅ Saved GPT responses to: category_files/gpt_gyms.csv\n",
      "\n",
      "📥 Processing file: nightlife.csv\n",
      "✅ Loaded 100 reviews\n",
      "✅ Saved GPT responses to: category_files/gpt_nightlife.csv\n",
      "\n",
      "📥 Processing file: restaurants.csv\n",
      "✅ Loaded 100 reviews\n",
      "✅ Saved GPT responses to: category_files/gpt_restaurants.csv\n",
      "\n",
      "📥 Processing file: sandwiches.csv\n",
      "✅ Loaded 100 reviews\n",
      "✅ Saved GPT responses to: category_files/gpt_sandwiches.csv\n"
     ]
    }
   ],
   "source": [
    "# Step 2: Set up OpenAI and S3 configuration\n",
    "import boto3\n",
    "import pandas as pd\n",
    "import openai\n",
    "from io import StringIO\n",
    "import urllib.parse\n",
    "import os\n",
    "\n",
    "# Replace with your OpenAI API key\n",
    "api_key = \"Dummy\"\n",
    "\n",
    "# S3 bucket and folder configuration\n",
    "bucket_name = \"kiran-yelp-project-bucket\"\n",
    "s3_folder = \"category_files/\"\n",
    "\n",
    "# List of CSV files (categories)\n",
    "csv_files = [\n",
    "    \"american (traditional).csv\",\n",
    "    \"bars.csv\",\n",
    "    \"coffee & tea.csv\",\n",
    "    \"Food.csv\",\n",
    "    \"gyms.csv\",\n",
    "    \"nightlife.csv\",\n",
    "    \"restaurants.csv\",\n",
    "    \"sandwiches.csv\"\n",
    "]\n",
    "\n",
    "# Step 3: Define a function to generate GPT response with category awareness (new API format)\n",
    "def generate_reply(review_text, category):\n",
    "    client = openai.OpenAI(api_key=api_key)\n",
    "    prompt = f\"\"\"\n",
    "You're the owner of a business in the {category} category. Write a professional and polite response to this customer review:\n",
    "\n",
    "\"{review_text}\"\n",
    "\n",
    "Response:\n",
    "\"\"\"\n",
    "    response = client.chat.completions.create(\n",
    "        model=\"gpt-3.5-turbo\",\n",
    "        messages=[{\"role\": \"user\", \"content\": prompt}],\n",
    "        temperature=0.7\n",
    "    )\n",
    "    return response.choices[0].message.content\n",
    "\n",
    "# Step 4: Loop through all category CSV files\n",
    "s3 = boto3.client(\"s3\")\n",
    "for file_name in csv_files:\n",
    "    encoded_file = urllib.parse.quote(file_name)\n",
    "    input_key = f\"{s3_folder}{file_name}\"\n",
    "    output_key = f\"{s3_folder}gpt_{file_name}\"\n",
    "\n",
    "    category = os.path.splitext(file_name)[0]  # Extract category name from filename\n",
    "\n",
    "    print(f\"\\n📥 Processing file: {file_name}\")\n",
    "\n",
    "    response = s3.get_object(Bucket=bucket_name, Key=input_key)\n",
    "    df = pd.read_csv(response[\"Body\"])\n",
    "    print(f\"✅ Loaded {len(df)} reviews\")\n",
    "\n",
    "    df[\"gpt_response\"] = df[\"review_text\"].apply(lambda x: generate_reply(x, category))\n",
    "    \n",
    "    csv_buffer = StringIO()\n",
    "    df.to_csv(csv_buffer, index=False)\n",
    "    s3.put_object(Bucket=bucket_name, Key=output_key, Body=csv_buffer.getvalue())\n",
    "\n",
    "    print(f\"✅ Saved GPT responses to: {output_key}\")\n"
   ]
  },
  {
   "cell_type": "code",
   "execution_count": null,
   "id": "18aef1df-6b2e-41db-a0c9-60d135bdd2e5",
   "metadata": {},
   "outputs": [],
   "source": []
  }
 ],
 "metadata": {
  "kernelspec": {
   "display_name": "Python 3 (ipykernel)",
   "language": "python",
   "name": "python3"
  },
  "language_info": {
   "codemirror_mode": {
    "name": "ipython",
    "version": 3
   },
   "file_extension": ".py",
   "mimetype": "text/x-python",
   "name": "python",
   "nbconvert_exporter": "python",
   "pygments_lexer": "ipython3",
   "version": "3.11.11"
  }
 },
 "nbformat": 4,
 "nbformat_minor": 5
}
